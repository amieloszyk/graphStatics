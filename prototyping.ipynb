{
 "cells": [
  {
   "cell_type": "code",
   "execution_count": 39,
   "metadata": {},
   "outputs": [],
   "source": [
    "import numpy as np"
   ]
  },
  {
   "cell_type": "code",
   "execution_count": 5,
   "metadata": {},
   "outputs": [],
   "source": [
    "# Element class\n",
    "class Element(object):\n",
    "    \n",
    "    def __init__(self,position,dimensions,rotation=0.0,density=0.0):\n",
    "        '''\n",
    "        Set up\n",
    "        '''\n",
    "        self.postion = position\n",
    "        self.dimensions = dimensions\n",
    "        self.rotation = rotation\n",
    "        self.density = density\n",
    "        self.loadNodes = []\n",
    "        self.supportNodes = []\n",
    "        \n",
    "    def addLoadNode(self,loadNode):\n",
    "        self.loadNodes.append(loadNode)\n",
    "        # if this treats a non-const reference, it should set up the node relationship too\n",
    "        \n",
    "    def addSupportNode(self,supportNode):\n",
    "        self.supportNodes.append(supportNode)\n",
    "        # if this treats a non-const reference, it should set up the node relationship too\n",
    "        \n",
    "    def setSelfLoadOnNodes(self):\n",
    "        raise NotImplementedError()\n",
    "        "
   ]
  },
  {
   "cell_type": "code",
   "execution_count": 50,
   "metadata": {},
   "outputs": [],
   "source": [
    "# Node class\n",
    "class Node(object):\n",
    "    \n",
    "    def __init__(self, position):\n",
    "        '''\n",
    "        Set up\n",
    "        '''\n",
    "        self.position = position\n",
    "        self.fixMoment = [True, True, True]\n",
    "        self.fixForce = [True, True, True]\n",
    "        self.externalMoment = [0.0, 0.0, 0.0]\n",
    "        self.externalForce = [0.0, 0.0, 0.0]\n",
    "        self.actingMoment = [0.0, 0.0, 0.0]\n",
    "        self.actingForce = [0.0, 0.0, 0.0]\n",
    "        self.loadElements = []\n",
    "        self.supportElements = []\n",
    "        \n",
    "    def addLoadElement(self,loadElement):\n",
    "        self.loadElements.append(loadElement)\n",
    "        # if this treats a non-const reference, it should set up the element relationship too\n",
    "        \n",
    "    def addSupportElement(self,supportElement):\n",
    "        self.supportElements.append(supportElement)\n",
    "        # if this treats a non-const reference, it should set up the element relationship too\n",
    "    \n",
    "    def calcReactForce(self):\n",
    "        #todo(ajm 10/2/2019): need DOF logic\n",
    "        \n",
    "        reactForce = [0.0, 0.0, 0.0]\n",
    "        for comp, force in enumerate(self.externalForce):\n",
    "            reactForce[comp] -= force\n",
    "        for loadElement in self.loadElements:\n",
    "            for loadNode in loadElement.loadNodes:\n",
    "                for comp, force in enumerate(loadNode.actingForce):\n",
    "                    reactForce[comp] -= force\n",
    "                    \n",
    "        return reactForce\n",
    "    \n",
    "    def setActingForce(self):\n",
    "        reactForce = self.calcReactForce()\n",
    "        self.actingForce = [-f for f in reactForce]\n",
    "            \n",
    "    def calcReactMoment(self):\n",
    "        #todo(ajm 10/2/2019): need DOF logic\n",
    "        \n",
    "        reactMoment = [0.0, 0.0, 0.0]\n",
    "\n",
    "        for jdx,moment in enumerate(self.externalMoment):\n",
    "            reactMoment[jdx] -= moment\n",
    "        \n",
    "        for loadElement in self.loadElements:\n",
    "            for loadNode in loadElement.loadNodes:\n",
    "                distVect = [x-y for x,y in zip(loadNode.position,self.position)]\n",
    "                momentVect = np.cross(distVect,loadNode.actingForce)\n",
    "                for jdx,moment in enumerate(momentVect):\n",
    "                    reactMoment[jdx] -= moment\n",
    "                    reactMoment[jdx] -= loadNode.actingMoment[jdx]\n",
    "\n",
    "        return reactMoment\n",
    "    \n",
    "    def setActingMoment(self):\n",
    "        # todo (ajm 10/2/2019): careful, this might be over simplified...\n",
    "        reactMoment = self.calcReactMoment()\n",
    "        self.actingMoment = [-m for m in reactMoment]"
   ]
  },
  {
   "cell_type": "code",
   "execution_count": 48,
   "metadata": {},
   "outputs": [
    {
     "name": "stdout",
     "output_type": "stream",
     "text": [
      "should be (-20, -18, 0):  [-20.0, -18.0, 0.0]\n",
      "should be (0, 0, 60):  [0.0, 0.0, 60.0]\n"
     ]
    }
   ],
   "source": [
    "'''\n",
    "Test #1\n",
    "\n",
    "    ^ 18N\n",
    "    |\n",
    " c2 x --> 20N \n",
    "    |\n",
    " b1 |\n",
    "    |\n",
    " c1 x\n",
    "'''\n",
    "\n",
    "# define components\n",
    "conn1 = Node([0.0, 0.0, 0.0])\n",
    "conn2 = Node([0.0, 3.0, 0.0])\n",
    "beam1 = Element([0.0, 0.0, 0.0], {\"length\":3.0}, 90.0)\n",
    "\n",
    "# define relationships\n",
    "beam1.addLoadNode(conn2)\n",
    "beam1.addSupportNode(conn1)\n",
    "\n",
    "conn2.addSupportElement(beam1)\n",
    "conn1.addLoadElement(beam1)\n",
    "\n",
    "# define load\n",
    "conn2.externalForce = [20.0, 18.0, 0.0]\n",
    "\n",
    "# communicate loads\n",
    "conn2.setActingForce()\n",
    "\n",
    "# check answers\n",
    "print(\"should be (-20, -18, 0): \",conn1.calcReactForce())\n",
    "print(\"should be (0, 0, 60): \",conn1.calcReactMoment())"
   ]
  },
  {
   "cell_type": "code",
   "execution_count": 52,
   "metadata": {},
   "outputs": [
    {
     "data": {
      "text/plain": [
       "-66.85"
      ]
     },
     "execution_count": 52,
     "metadata": {},
     "output_type": "execute_result"
    }
   ],
   "source": [
    "2*6-5*14-5*3+5*1.23"
   ]
  },
  {
   "cell_type": "code",
   "execution_count": 51,
   "metadata": {},
   "outputs": [
    {
     "name": "stdout",
     "output_type": "stream",
     "text": [
      "[-19.0, -4.77, 0.0]\n",
      "[0.0, 0.0, 66.85]\n"
     ]
    }
   ],
   "source": [
    "'''\n",
    "Test #1\n",
    "               ^6N\n",
    "               |\n",
    "            c4 x --> 14N\n",
    "      | 1.23N /\n",
    "      v  b2  / b3\n",
    " 5N-->x-----x c2\n",
    "      c3    |\n",
    "         b1 |\n",
    "            |\n",
    "         c1 x\n",
    "'''\n",
    "\n",
    "# define components\n",
    "conn1 = Node([0.0, 0.0, 0.0])\n",
    "conn2 = Node([0.0, 3.0, 0.0])\n",
    "conn3 = Node([-5.0, 3.0, 0.0])\n",
    "conn4 = Node([2.0, 5.0, 0.0])\n",
    "beam1 = Element([0.0, 0.0, 0.0], {\"length\":3.0}, 90.0)\n",
    "beam2 = Element([0.0, 3.0, 0.0], {\"length\":5.0}, 180.0)\n",
    "beam3 = Element([0.0, 3.0, 0.0], {\"length\":2*2**0.5}, 45.0)\n",
    "\n",
    "# define relationships\n",
    "beam3.addLoadNode(conn4)\n",
    "beam3.addSupportNode(conn2)\n",
    "beam2.addLoadNode(conn3)\n",
    "beam2.addSupportNode(conn2)\n",
    "beam1.addLoadNode(conn2)\n",
    "beam1.addSupportNode(conn1)\n",
    "\n",
    "conn4.addSupportElement(beam3)\n",
    "conn3.addSupportElement(beam2)\n",
    "conn2.addLoadElement(beam3)\n",
    "conn2.addLoadElement(beam2)\n",
    "conn2.addSupportElement(beam1)\n",
    "conn1.addLoadElement(beam1)\n",
    "\n",
    "# define loads\n",
    "conn3.externalForce = [5.0, -1.23, 0.0]\n",
    "conn4.externalForce = [14.0, 6.0, 0.0]\n",
    "\n",
    "# communicate loads\n",
    "conn4.setActingForce()\n",
    "conn3.setActingForce()\n",
    "conn2.setActingForce()\n",
    "\n",
    "# communicate moments\n",
    "conn2.setActingMoment()\n",
    "\n",
    "# check answers\n",
    "print(\"should be (-19, -4.77, 0): \", conn1.calcReactForce())\n",
    "print(\"should be (0, 0, 66.85): \", conn1.calcReactMoment())"
   ]
  },
  {
   "cell_type": "code",
   "execution_count": 40,
   "metadata": {},
   "outputs": [
    {
     "data": {
      "text/plain": [
       "array([  0,   0, -22])"
      ]
     },
     "execution_count": 40,
     "metadata": {},
     "output_type": "execute_result"
    }
   ],
   "source": [
    "np.cross([2,6,0],[3,-2,0])"
   ]
  },
  {
   "cell_type": "code",
   "execution_count": null,
   "metadata": {},
   "outputs": [],
   "source": []
  }
 ],
 "metadata": {
  "kernelspec": {
   "display_name": "Python 3",
   "language": "python",
   "name": "python3"
  },
  "language_info": {
   "codemirror_mode": {
    "name": "ipython",
    "version": 3
   },
   "file_extension": ".py",
   "mimetype": "text/x-python",
   "name": "python",
   "nbconvert_exporter": "python",
   "pygments_lexer": "ipython3",
   "version": "3.7.1"
  }
 },
 "nbformat": 4,
 "nbformat_minor": 2
}
